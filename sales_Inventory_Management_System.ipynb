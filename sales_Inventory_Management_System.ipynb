{
  "nbformat": 4,
  "nbformat_minor": 0,
  "metadata": {
    "colab": {
      "name": "sales_Inventory Management System.ipynb",
      "provenance": []
    },
    "kernelspec": {
      "name": "python3",
      "display_name": "Python 3"
    },
    "language_info": {
      "name": "python"
    }
  },
  "cells": [
    {
      "cell_type": "code",
      "metadata": {
        "id": "jO2ra0TIISOg"
      },
      "source": [
        "import json\n",
        "\n",
        "fd = open(\"/content/record (1).json\",'r')\n",
        "r = fd.read()\n",
        "fd.close()\n",
        "\n",
        "records = json.loads(r)"
      ],
      "execution_count": 26,
      "outputs": []
    },
    {
      "cell_type": "code",
      "metadata": {
        "colab": {
          "base_uri": "https://localhost:8080/"
        },
        "id": "g_ms-BfTLGO0",
        "outputId": "8a07ebf9-930c-46f5-fc4c-907fd28df52e"
      },
      "source": [
        "records"
      ],
      "execution_count": 27,
      "outputs": [
        {
          "output_type": "execute_result",
          "data": {
            "text/plain": [
              "{'2021': {'Generation': '10th',\n",
              "  'Price': 50000,\n",
              "  'Processor': 'i5',\n",
              "  'Product_name': 'HP',\n",
              "  'Quantity': 100},\n",
              " '2022': {'Generation': '10th',\n",
              "  'Price': 60000,\n",
              "  'Processor': 'i5',\n",
              "  'Product_name': 'DELL',\n",
              "  'Quantity': 50},\n",
              " '2023': {'Generation': '10th',\n",
              "  'Price': 50000,\n",
              "  'Processor': 'i5',\n",
              "  'Product_name': 'Asus',\n",
              "  'Quantity': 40},\n",
              " '2024': {'Expiry_Date': '22/04/26',\n",
              "  'Manufacturing_Date': '22/9/21',\n",
              "  'Price': 100,\n",
              "  'Product_name': 'Geometry Box',\n",
              "  'Quantity': 200},\n",
              " '2025': {'On-site_warranty': '1_yrs',\n",
              "  'Product_name': 'Samsung',\n",
              "  'Quantity': 21,\n",
              "  'Specifications': '8gb_ram,64gb_rom',\n",
              "  'price': 15000},\n",
              " '2026': {'Generation': '10th',\n",
              "  'Price': 150000,\n",
              "  'Processor': 'i9',\n",
              "  'Product_name': 'Apple',\n",
              "  'Quantity': 35},\n",
              " '2027': {'Colors': 'Black',\n",
              "  'Material': 'Leather',\n",
              "  'Price': 1000,\n",
              "  'Product_name': 'American_Tourister',\n",
              "  'Quantity': 51},\n",
              " '2028': {'Onsite_Warranty': '1_yrs',\n",
              "  'Price': 75000,\n",
              "  'Product_name': 'Apple',\n",
              "  'Quantity': 20,\n",
              "  'Specifications': '8gb_ram,64gb_rom'},\n",
              " '2029': {'Generation': '10th',\n",
              "  'Price': 52000,\n",
              "  'Processor': 'i5',\n",
              "  'Product_name': 'Lenovo',\n",
              "  'Quantity': 25},\n",
              " '2030': {'Generation': '10th',\n",
              "  'Price': 36000,\n",
              "  'Processor': 'Rhyzen3',\n",
              "  'Product_name': 'HP',\n",
              "  'Quantity': 15},\n",
              " '2031': {'Generation': '10th',\n",
              "  'Price': 47000,\n",
              "  'Processor': 'Rhyzen5',\n",
              "  'Product_name': 'HP',\n",
              "  'Quantity': 10},\n",
              " '2032': {'Packing': 'Polythene',\n",
              "  'Price': 29,\n",
              "  'Product_name': 'Amul',\n",
              "  'Quantity': 101,\n",
              "  'Specifications': 'Full_Cream'},\n",
              " '2033': {'Expiry_Date': '22/04/22',\n",
              "  'Price': 10,\n",
              "  'Product': 'Chocalate',\n",
              "  'Product_name': '5_Star',\n",
              "  'Quantity': 100},\n",
              " '2034': {'Batch_no': '435671',\n",
              "  'Expiry_Date': '1/1,22',\n",
              "  'Price': 45,\n",
              "  'Product_name': 'Coca_cola',\n",
              "  'Quantity': 100},\n",
              " '2035': {'Expiry_date': '02/01/22',\n",
              "  'Manufacturing_Date': '02/09/21',\n",
              "  'Price': 300,\n",
              "  'Product_name': 'Aggarwal_Sweets',\n",
              "  'Quantity': 100},\n",
              " '2036': {'Expiry_date': '25/10/25',\n",
              "  'Price': 1999,\n",
              "  'Product_name': 'Microsoft',\n",
              "  'Quantity': 100000,\n",
              "  'Starting_date': '10/10/21'},\n",
              " '2037': {'Expiry_Date': '23/05/22',\n",
              "  'Manufacturing_date': '21/2/21',\n",
              "  'Price': 55,\n",
              "  'Product_name': 'Nestle',\n",
              "  'Quantity': 50},\n",
              " '2038': {'Expiry_Date': '31/01/22',\n",
              "  'Manufacturing_Date': '22/08/21',\n",
              "  'Price': 300,\n",
              "  'Product_name': 'Amul',\n",
              "  'Quantity': 300},\n",
              " '2039': {'Expiry_Date': '04/01/22',\n",
              "  'Manufacturing_Date': '7/9/21',\n",
              "  'Price': 30,\n",
              "  'Product_name': 'Britania_cake',\n",
              "  'Quantity': 200},\n",
              " '2040': {'Expiry_Date': 'nil',\n",
              "  'Manufacturing_Date': '22/07/21',\n",
              "  'Price': 400,\n",
              "  'Product_name': 'Clothes',\n",
              "  'Quantity': 100},\n",
              " '2041': {'Expiry_Date': '22/04/23',\n",
              "  'Manufacturing_Date': '31/01/21',\n",
              "  'Price': 45,\n",
              "  'Product_name': 'Colgate',\n",
              "  'Quantity': 51},\n",
              " '2042': {'Expiry_Date': '22/9/24',\n",
              "  'Manufacturing_Date': '1/9/21',\n",
              "  'Price': 49,\n",
              "  'Product_name': 'Brush',\n",
              "  'Quantity': 500},\n",
              " '2043': {'Expiry_Date': '24/02/24',\n",
              "  'Manufacturing_Date': '2/3/21',\n",
              "  'Price': 500,\n",
              "  'Product_name': 'School bag',\n",
              "  'Quantity': 100},\n",
              " '2044': {'Expiry_Date': '4/05/24',\n",
              "  'Manufacturing_Date': '2/9/21',\n",
              "  'Price': 4500,\n",
              "  'Product_name': 'Smart Watch',\n",
              "  'Quantity': 100},\n",
              " '2045': {'Expiry_Date': '31/12/25',\n",
              "  'Manufacturing_Date': '2/7/21',\n",
              "  'Price': 99,\n",
              "  'Product_name': 'Water Bottle',\n",
              "  'Quantity': 200},\n",
              " '2046': {'Expiry_Date': '22/10/2027',\n",
              "  'Manufacturing_Date': '4/3/21',\n",
              "  'Price': 999,\n",
              "  'Product_name': 'jeans',\n",
              "  'Quantity': 50},\n",
              " '2047': {'Expiry_Date': '5/9/28',\n",
              "  'Manufacturing_Date': '2/9/21',\n",
              "  'Price': 2999,\n",
              "  'Product_name': 'Drones',\n",
              "  'Quantity': 15},\n",
              " '2048': {'Expiry_Date': '22/07/27',\n",
              "  'Manufacturing_Date': '1/09/20',\n",
              "  'Price': 1200,\n",
              "  'Product_name': 'Hair Dryer',\n",
              "  'Quantity': 30},\n",
              " '2049': {'Expiry_Date': '31/01/25',\n",
              "  'Manufacturing_Date': '5/9/20',\n",
              "  'Price': 599,\n",
              "  'Product_name': 'Earphone',\n",
              "  'Quantity': 50},\n",
              " '2050': {'Expiry_Date': '25/09/24',\n",
              "  'Manufacturing_Date': '2/9/21',\n",
              "  'Price': 1999,\n",
              "  'Product_name': 'head Phone',\n",
              "  'Quantity': 40}}"
            ]
          },
          "metadata": {},
          "execution_count": 27
        }
      ]
    },
    {
      "cell_type": "markdown",
      "metadata": {
        "id": "sEtlmByJLRKx"
      },
      "source": [
        "PURCHASE\n"
      ]
    },
    {
      "cell_type": "code",
      "metadata": {
        "colab": {
          "base_uri": "https://localhost:8080/"
        },
        "id": "my0GkTzPGkbl",
        "outputId": "1d3b2b9b-2969-4ca8-88e7-2b42918be47b"
      },
      "source": [
        "ui_prod  = str(input(\"Enter the product_Id: \"))\n",
        "ui_quant = int(input(\"Enter the quantity: \"))\n",
        "\n",
        "\n",
        "print(\"Product: \", records[ui_prod]['Product_name'])\n",
        "print(\"Price: \", records[ui_prod]['Price'])\n",
        "print(\"Billing Amount: \", records[ui_prod]['Price'] * ui_quant)\n",
        "\n",
        "records[ui_prod]['Quantity'] = records[ui_prod]['Quantity'] - ui_quant"
      ],
      "execution_count": 28,
      "outputs": [
        {
          "output_type": "stream",
          "name": "stdout",
          "text": [
            "Enter the product_Id: 2033\n",
            "Enter the quantity: 5\n",
            "Product:  5_Star\n",
            "Price:  10\n",
            "Billing Amount:  50\n"
          ]
        }
      ]
    },
    {
      "cell_type": "markdown",
      "metadata": {
        "id": "pOG6bAIzLi2r"
      },
      "source": [
        "UPDATE AFTER PURCHASE\n"
      ]
    },
    {
      "cell_type": "code",
      "metadata": {
        "id": "BqcMAQAILqYI"
      },
      "source": [
        "js = json.dumps(records)\n",
        "\n",
        "fd = open(\"record.json\",'w')\n",
        "fd.write(js)\n",
        "fd.close()"
      ],
      "execution_count": 29,
      "outputs": []
    },
    {
      "cell_type": "code",
      "metadata": {
        "colab": {
          "base_uri": "https://localhost:8080/"
        },
        "id": "kOqTwVheLxG-",
        "outputId": "0f0e3c2e-82d6-49e3-bd6d-69780e8d8b6a"
      },
      "source": [
        "{'Product_name' : ui_prod, 'Quantity' : ui_quant, 'amount': records[ui_prod]['Price'] * ui_quant}"
      ],
      "execution_count": 30,
      "outputs": [
        {
          "output_type": "execute_result",
          "data": {
            "text/plain": [
              "{'Product_name': '2033', 'Quantity': 5, 'amount': 50}"
            ]
          },
          "metadata": {},
          "execution_count": 30
        }
      ]
    },
    {
      "cell_type": "code",
      "metadata": {
        "id": "bLGEQ4XlMXTu"
      },
      "source": [
        "sales = {1 : {'Product_name' : ui_prod, 'Quantity' : ui_quant, 'amount': records[ui_prod]['Price'] * ui_quant},\n",
        "         2 : {'Product_name' : ui_prod, 'Quantity' : ui_quant, 'amount': records[ui_prod]['Price'] * ui_quant},\n",
        "         3 : {'Product_name' : ui_prod, 'Quantity' : ui_quant, 'amount': records[ui_prod]['Price'] * ui_quant}}"
      ],
      "execution_count": 31,
      "outputs": []
    },
    {
      "cell_type": "code",
      "metadata": {
        "id": "1YSqtB3aMsqM"
      },
      "source": [
        "sale = json.dumps(sales)"
      ],
      "execution_count": 32,
      "outputs": []
    },
    {
      "cell_type": "code",
      "metadata": {
        "colab": {
          "base_uri": "https://localhost:8080/",
          "height": 52
        },
        "id": "PHH8fH36MyvC",
        "outputId": "0d3435a3-0ebf-4f9e-c552-1e31110b33fb"
      },
      "source": [
        "sale"
      ],
      "execution_count": 33,
      "outputs": [
        {
          "output_type": "execute_result",
          "data": {
            "application/vnd.google.colaboratory.intrinsic+json": {
              "type": "string"
            },
            "text/plain": [
              "'{\"1\": {\"Product_name\": \"2033\", \"Quantity\": 5, \"amount\": 50}, \"2\": {\"Product_name\": \"2033\", \"Quantity\": 5, \"amount\": 50}, \"3\": {\"Product_name\": \"2033\", \"Quantity\": 5, \"amount\": 50}}'"
            ]
          },
          "metadata": {},
          "execution_count": 33
        }
      ]
    },
    {
      "cell_type": "code",
      "metadata": {
        "id": "nWYPC6DiM03e"
      },
      "source": [
        ""
      ],
      "execution_count": null,
      "outputs": []
    }
  ]
}