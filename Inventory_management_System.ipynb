{
  "nbformat": 4,
  "nbformat_minor": 0,
  "metadata": {
    "colab": {
      "name": "Inventory management System.ipynb",
      "provenance": [],
      "collapsed_sections": []
    },
    "kernelspec": {
      "name": "python3",
      "display_name": "Python 3"
    },
    "language_info": {
      "name": "python"
    }
  },
  "cells": [
    {
      "cell_type": "code",
      "metadata": {
        "id": "KIpyRvWvR2wx"
      },
      "source": [
        "fd = open(\"/content/record (1).json\",'r')\n",
        "r = fd.read()\n",
        "fd.close()\n",
        "\n",
        "record = json.loads(r)"
      ],
      "execution_count": 42,
      "outputs": []
    },
    {
      "cell_type": "code",
      "metadata": {
        "colab": {
          "base_uri": "https://localhost:8080/"
        },
        "id": "z3CG9rLoSHOK",
        "outputId": "6bec3e16-e779-44f5-9383-4a79f4c82dff"
      },
      "source": [
        "record"
      ],
      "execution_count": 43,
      "outputs": [
        {
          "output_type": "execute_result",
          "data": {
            "text/plain": [
              "{'2021': {'Generation': '10th',\n",
              "  'Price': 50000,\n",
              "  'Processor': 'i5',\n",
              "  'Product_name': 'HP',\n",
              "  'Quantity': 100},\n",
              " '2022': {'Generation': '10th',\n",
              "  'Price': 60000,\n",
              "  'Processor': 'i5',\n",
              "  'Product_name': 'DELL',\n",
              "  'Quantity': 50},\n",
              " '2023': {'Generation': '10th',\n",
              "  'Price': 50000,\n",
              "  'Processor': 'i5',\n",
              "  'Product_name': 'Asus',\n",
              "  'Quantity': 40},\n",
              " '2024': {'Expiry_Date': '22/04/26',\n",
              "  'Manufacturing_Date': '22/9/21',\n",
              "  'Price': 100,\n",
              "  'Product_name': 'Geometry Box',\n",
              "  'Quantity': 200},\n",
              " '2025': {'On-site_warranty': '1_yrs',\n",
              "  'Product_name': 'Samsung',\n",
              "  'Quantity': 21,\n",
              "  'Specifications': '8gb_ram,64gb_rom',\n",
              "  'price': 15000},\n",
              " '2026': {'Generation': '10th',\n",
              "  'Price': 150000,\n",
              "  'Processor': 'i9',\n",
              "  'Product_name': 'Apple',\n",
              "  'Quantity': 35},\n",
              " '2027': {'Colors': 'Black',\n",
              "  'Material': 'Leather',\n",
              "  'Price': 1000,\n",
              "  'Product_name': 'American_Tourister',\n",
              "  'Quantity': 51},\n",
              " '2028': {'Onsite_Warranty': '1_yrs',\n",
              "  'Price': 75000,\n",
              "  'Product_name': 'Apple',\n",
              "  'Quantity': 20,\n",
              "  'Specifications': '8gb_ram,64gb_rom'},\n",
              " '2029': {'Generation': '10th',\n",
              "  'Price': 52000,\n",
              "  'Processor': 'i5',\n",
              "  'Product_name': 'Lenovo',\n",
              "  'Quantity': 25},\n",
              " '2030': {'Generation': '10th',\n",
              "  'Price': 36000,\n",
              "  'Processor': 'Rhyzen3',\n",
              "  'Product_name': 'HP',\n",
              "  'Quantity': 15},\n",
              " '2031': {'Generation': '10th',\n",
              "  'Price': 47000,\n",
              "  'Processor': 'Rhyzen5',\n",
              "  'Product_name': 'HP',\n",
              "  'Quantity': 10},\n",
              " '2032': {'Packing': 'Polythene',\n",
              "  'Price': 29,\n",
              "  'Product_name': 'Amul',\n",
              "  'Quantity': 101,\n",
              "  'Specifications': 'Full_Cream'},\n",
              " '2033': {'Expiry_Date': '22/04/22',\n",
              "  'Price': 10,\n",
              "  'Product': 'Chocalate',\n",
              "  'Product_name': '5_Star',\n",
              "  'Quantity': 100},\n",
              " '2034': {'Batch_no': '435671',\n",
              "  'Expiry_Date': '1/1,22',\n",
              "  'Price': 45,\n",
              "  'Product_name': 'Coca_cola',\n",
              "  'Quantity': 100},\n",
              " '2035': {'Expiry_date': '02/01/22',\n",
              "  'Manufacturing_Date': '02/09/21',\n",
              "  'Price': 300,\n",
              "  'Product_name': 'Aggarwal_Sweets',\n",
              "  'Quantity': 100},\n",
              " '2036': {'Expiry_date': '25/10/25',\n",
              "  'Price': 1999,\n",
              "  'Product_name': 'Microsoft',\n",
              "  'Quantity': 100000,\n",
              "  'Starting_date': '10/10/21'},\n",
              " '2037': {'Expiry_Date': '23/05/22',\n",
              "  'Manufacturing_date': '21/2/21',\n",
              "  'Price': 55,\n",
              "  'Product_name': 'Nestle',\n",
              "  'Quantity': 50},\n",
              " '2038': {'Expiry_Date': '31/01/22',\n",
              "  'Manufacturing_Date': '22/08/21',\n",
              "  'Price': 300,\n",
              "  'Product_name': 'Amul',\n",
              "  'Quantity': 300},\n",
              " '2039': {'Expiry_Date': '04/01/22',\n",
              "  'Manufacturing_Date': '7/9/21',\n",
              "  'Price': 30,\n",
              "  'Product_name': 'Britania_cake',\n",
              "  'Quantity': 200},\n",
              " '2040': {'Expiry_Date': 'nil',\n",
              "  'Manufacturing_Date': '22/07/21',\n",
              "  'Price': 400,\n",
              "  'Product_name': 'Clothes',\n",
              "  'Quantity': 100},\n",
              " '2041': {'Expiry_Date': '22/04/23',\n",
              "  'Manufacturing_Date': '31/01/21',\n",
              "  'Price': 45,\n",
              "  'Product_name': 'Colgate',\n",
              "  'Quantity': 51},\n",
              " '2042': {'Expiry_Date': '22/9/24',\n",
              "  'Manufacturing_Date': '1/9/21',\n",
              "  'Price': 49,\n",
              "  'Product_name': 'Brush',\n",
              "  'Quantity': 500},\n",
              " '2043': {'Expiry_Date': '24/02/24',\n",
              "  'Manufacturing_Date': '2/3/21',\n",
              "  'Price': 500,\n",
              "  'Product_name': 'School bag',\n",
              "  'Quantity': 100},\n",
              " '2044': {'Expiry_Date': '4/05/24',\n",
              "  'Manufacturing_Date': '2/9/21',\n",
              "  'Price': 4500,\n",
              "  'Product_name': 'Smart Watch',\n",
              "  'Quantity': 100},\n",
              " '2045': {'Expiry_Date': '31/12/25',\n",
              "  'Manufacturing_Date': '2/7/21',\n",
              "  'Price': 99,\n",
              "  'Product_name': 'Water Bottle',\n",
              "  'Quantity': 200},\n",
              " '2046': {'Expiry_Date': '22/10/2027',\n",
              "  'Manufacturing_Date': '4/3/21',\n",
              "  'Price': 999,\n",
              "  'Product_name': 'jeans',\n",
              "  'Quantity': 50},\n",
              " '2047': {'Expiry_Date': '5/9/28',\n",
              "  'Manufacturing_Date': '2/9/21',\n",
              "  'Price': 2999,\n",
              "  'Product_name': 'Drones',\n",
              "  'Quantity': 15},\n",
              " '2048': {'Expiry_Date': '22/07/27',\n",
              "  'Manufacturing_Date': '1/09/20',\n",
              "  'Price': 1200,\n",
              "  'Product_name': 'Hair Dryer',\n",
              "  'Quantity': 30},\n",
              " '2049': {'Expiry_Date': '31/01/25',\n",
              "  'Manufacturing_Date': '5/9/20',\n",
              "  'Price': 599,\n",
              "  'Product_name': 'Earphone',\n",
              "  'Quantity': 50},\n",
              " '2050': {'Expiry_Date': '25/09/24',\n",
              "  'Manufacturing_Date': '2/9/21',\n",
              "  'Price': 1999,\n",
              "  'Product_name': 'head Phone',\n",
              "  'Quantity': 40}}"
            ]
          },
          "metadata": {},
          "execution_count": 43
        }
      ]
    },
    {
      "cell_type": "code",
      "metadata": {
        "colab": {
          "base_uri": "https://localhost:8080/"
        },
        "id": "vGHZb0jW63er",
        "outputId": "579b2972-1fba-4930-9bb1-aa95210414af"
      },
      "source": [
        "reg = '2039'\n",
        "\n",
        "print(record[reg]['Product_name'])\n",
        "print(record[reg]['Price'])\n",
        "print(record[reg]['Quantity'])\n",
        "print(record[reg]['Expiry_Date'])\n",
        "print(record[reg]['Manufacturing_Date'])"
      ],
      "execution_count": 67,
      "outputs": [
        {
          "output_type": "stream",
          "name": "stdout",
          "text": [
            "Britania_cake\n",
            "30\n",
            "200\n",
            "04/01/22\n",
            "7/9/21\n"
          ]
        }
      ]
    },
    {
      "cell_type": "code",
      "metadata": {
        "id": "fckRtssL7Wal"
      },
      "source": [
        "import json"
      ],
      "execution_count": 46,
      "outputs": []
    },
    {
      "cell_type": "code",
      "metadata": {
        "id": "FOQfkwLj-SVn"
      },
      "source": [
        "js = json.dumps(record)"
      ],
      "execution_count": 47,
      "outputs": []
    },
    {
      "cell_type": "code",
      "metadata": {
        "colab": {
          "base_uri": "https://localhost:8080/",
          "height": 171
        },
        "id": "2XInWTJT-Zv3",
        "outputId": "056ad25a-0ac0-4b21-b2fa-c27ea0345216"
      },
      "source": [
        "js"
      ],
      "execution_count": 48,
      "outputs": [
        {
          "output_type": "execute_result",
          "data": {
            "application/vnd.google.colaboratory.intrinsic+json": {
              "type": "string"
            },
            "text/plain": [
              "'{\"2021\": {\"Product_name\": \"HP\", \"Price\": 50000, \"Generation\": \"10th\", \"Processor\": \"i5\", \"Quantity\": 100}, \"2022\": {\"Product_name\": \"DELL\", \"Price\": 60000, \"Generation\": \"10th\", \"Processor\": \"i5\", \"Quantity\": 50}, \"2023\": {\"Product_name\": \"Asus\", \"Price\": 50000, \"Generation\": \"10th\", \"Processor\": \"i5\", \"Quantity\": 40}, \"2024\": {\"Product_name\": \"Geometry Box\", \"Price\": 100, \"Quantity\": 200, \"Expiry_Date\": \"22/04/26\", \"Manufacturing_Date\": \"22/9/21\"}, \"2025\": {\"Product_name\": \"Samsung\", \"price\": 15000, \"Specifications\": \"8gb_ram,64gb_rom\", \"On-site_warranty\": \"1_yrs\", \"Quantity\": 21}, \"2026\": {\"Product_name\": \"Apple\", \"Price\": 150000, \"Generation\": \"10th\", \"Processor\": \"i9\", \"Quantity\": 35}, \"2027\": {\"Product_name\": \"American_Tourister\", \"Price\": 1000, \"Colors\": \"Black\", \"Material\": \"Leather\", \"Quantity\": 51}, \"2028\": {\"Product_name\": \"Apple\", \"Price\": 75000, \"Specifications\": \"8gb_ram,64gb_rom\", \"Onsite_Warranty\": \"1_yrs\", \"Quantity\": 20}, \"2029\": {\"Product_name\": \"Lenovo\", \"Price\": 52000, \"Generation\": \"10th\", \"Processor\": \"i5\", \"Quantity\": 25}, \"2030\": {\"Product_name\": \"HP\", \"Price\": 36000, \"Generation\": \"10th\", \"Processor\": \"Rhyzen3\", \"Quantity\": 15}, \"2031\": {\"Product_name\": \"HP\", \"Price\": 47000, \"Generation\": \"10th\", \"Processor\": \"Rhyzen5\", \"Quantity\": 10}, \"2032\": {\"Product_name\": \"Amul\", \"Price\": 29, \"Specifications\": \"Full_Cream\", \"Quantity\": 101, \"Packing\": \"Polythene\"}, \"2033\": {\"Product_name\": \"5_Star\", \"Price\": 10, \"Product\": \"Chocalate\", \"Quantity\": 100, \"Expiry_Date\": \"22/04/22\"}, \"2034\": {\"Product_name\": \"Coca_cola\", \"Price\": 45, \"Quantity\": 100, \"Expiry_Date\": \"1/1,22\", \"Batch_no\": \"435671\"}, \"2035\": {\"Product_name\": \"Aggarwal_Sweets\", \"Price\": 300, \"Manufacturing_Date\": \"02/09/21\", \"Expiry_date\": \"02/01/22\", \"Quantity\": 100}, \"2036\": {\"Product_name\": \"Microsoft\", \"Price\": 1999, \"Starting_date\": \"10/10/21\", \"Expiry_date\": \"25/10/25\", \"Quantity\": 100000}, \"2037\": {\"Product_name\": \"Nestle\", \"Price\": 55, \"Quantity\": 50, \"Expiry_Date\": \"23/05/22\", \"Manufacturing_date\": \"21/2/21\"}, \"2038\": {\"Product_name\": \"Amul\", \"Price\": 300, \"Quantity\": 300, \"Expiry_Date\": \"31/01/22\", \"Manufacturing_Date\": \"22/08/21\"}, \"2039\": {\"Product_name\": \"Britania_cake\", \"Price\": 30, \"Quantity\": 200, \"Expiry_Date\": \"04/01/22\", \"Manufacturing_Date\": \"7/9/21\"}, \"2040\": {\"Product_name\": \"Clothes\", \"Price\": 400, \"Quantity\": 100, \"Expiry_Date\": \"nil\", \"Manufacturing_Date\": \"22/07/21\"}, \"2041\": {\"Product_name\": \"Colgate\", \"Price\": 45, \"Quantity\": 51, \"Expiry_Date\": \"22/04/23\", \"Manufacturing_Date\": \"31/01/21\"}, \"2042\": {\"Product_name\": \"Brush\", \"Price\": 49, \"Quantity\": 500, \"Expiry_Date\": \"22/9/24\", \"Manufacturing_Date\": \"1/9/21\"}, \"2043\": {\"Product_name\": \"School bag\", \"Price\": 500, \"Quantity\": 100, \"Expiry_Date\": \"24/02/24\", \"Manufacturing_Date\": \"2/3/21\"}, \"2044\": {\"Product_name\": \"Smart Watch\", \"Price\": 4500, \"Quantity\": 100, \"Expiry_Date\": \"4/05/24\", \"Manufacturing_Date\": \"2/9/21\"}, \"2045\": {\"Product_name\": \"Water Bottle\", \"Price\": 99, \"Quantity\": 200, \"Expiry_Date\": \"31/12/25\", \"Manufacturing_Date\": \"2/7/21\"}, \"2046\": {\"Product_name\": \"jeans\", \"Price\": 999, \"Quantity\": 50, \"Expiry_Date\": \"22/10/2027\", \"Manufacturing_Date\": \"4/3/21\"}, \"2047\": {\"Product_name\": \"Drones\", \"Price\": 2999, \"Quantity\": 15, \"Expiry_Date\": \"5/9/28\", \"Manufacturing_Date\": \"2/9/21\"}, \"2048\": {\"Product_name\": \"Hair Dryer\", \"Price\": 1200, \"Quantity\": 30, \"Expiry_Date\": \"22/07/27\", \"Manufacturing_Date\": \"1/09/20\"}, \"2049\": {\"Product_name\": \"Earphone\", \"Price\": 599, \"Quantity\": 50, \"Expiry_Date\": \"31/01/25\", \"Manufacturing_Date\": \"5/9/20\"}, \"2050\": {\"Product_name\": \"head Phone\", \"Price\": 1999, \"Quantity\": 40, \"Expiry_Date\": \"25/09/24\", \"Manufacturing_Date\": \"2/9/21\"}}'"
            ]
          },
          "metadata": {},
          "execution_count": 48
        }
      ]
    },
    {
      "cell_type": "code",
      "metadata": {
        "id": "gp7om1Lq-foa"
      },
      "source": [
        "\n",
        "fd = open(\"record.json\",'w')\n",
        "\n",
        "fd.write(js)\n",
        "\n",
        "fd.close()"
      ],
      "execution_count": 49,
      "outputs": []
    },
    {
      "cell_type": "code",
      "metadata": {
        "id": "Wp66znFq-6HF"
      },
      "source": [
        "fd = open(\"record.json\",'r')\n",
        "\n",
        "txt = fd.read()\n",
        "\n",
        "fd.close()"
      ],
      "execution_count": 50,
      "outputs": []
    },
    {
      "cell_type": "code",
      "metadata": {
        "colab": {
          "base_uri": "https://localhost:8080/",
          "height": 171
        },
        "id": "XqkZvuPZ_DPN",
        "outputId": "7da41079-74ff-4d61-ad7a-35261eec6223"
      },
      "source": [
        "txt"
      ],
      "execution_count": 51,
      "outputs": [
        {
          "output_type": "execute_result",
          "data": {
            "application/vnd.google.colaboratory.intrinsic+json": {
              "type": "string"
            },
            "text/plain": [
              "'{\"2021\": {\"Product_name\": \"HP\", \"Price\": 50000, \"Generation\": \"10th\", \"Processor\": \"i5\", \"Quantity\": 100}, \"2022\": {\"Product_name\": \"DELL\", \"Price\": 60000, \"Generation\": \"10th\", \"Processor\": \"i5\", \"Quantity\": 50}, \"2023\": {\"Product_name\": \"Asus\", \"Price\": 50000, \"Generation\": \"10th\", \"Processor\": \"i5\", \"Quantity\": 40}, \"2024\": {\"Product_name\": \"Geometry Box\", \"Price\": 100, \"Quantity\": 200, \"Expiry_Date\": \"22/04/26\", \"Manufacturing_Date\": \"22/9/21\"}, \"2025\": {\"Product_name\": \"Samsung\", \"price\": 15000, \"Specifications\": \"8gb_ram,64gb_rom\", \"On-site_warranty\": \"1_yrs\", \"Quantity\": 21}, \"2026\": {\"Product_name\": \"Apple\", \"Price\": 150000, \"Generation\": \"10th\", \"Processor\": \"i9\", \"Quantity\": 35}, \"2027\": {\"Product_name\": \"American_Tourister\", \"Price\": 1000, \"Colors\": \"Black\", \"Material\": \"Leather\", \"Quantity\": 51}, \"2028\": {\"Product_name\": \"Apple\", \"Price\": 75000, \"Specifications\": \"8gb_ram,64gb_rom\", \"Onsite_Warranty\": \"1_yrs\", \"Quantity\": 20}, \"2029\": {\"Product_name\": \"Lenovo\", \"Price\": 52000, \"Generation\": \"10th\", \"Processor\": \"i5\", \"Quantity\": 25}, \"2030\": {\"Product_name\": \"HP\", \"Price\": 36000, \"Generation\": \"10th\", \"Processor\": \"Rhyzen3\", \"Quantity\": 15}, \"2031\": {\"Product_name\": \"HP\", \"Price\": 47000, \"Generation\": \"10th\", \"Processor\": \"Rhyzen5\", \"Quantity\": 10}, \"2032\": {\"Product_name\": \"Amul\", \"Price\": 29, \"Specifications\": \"Full_Cream\", \"Quantity\": 101, \"Packing\": \"Polythene\"}, \"2033\": {\"Product_name\": \"5_Star\", \"Price\": 10, \"Product\": \"Chocalate\", \"Quantity\": 100, \"Expiry_Date\": \"22/04/22\"}, \"2034\": {\"Product_name\": \"Coca_cola\", \"Price\": 45, \"Quantity\": 100, \"Expiry_Date\": \"1/1,22\", \"Batch_no\": \"435671\"}, \"2035\": {\"Product_name\": \"Aggarwal_Sweets\", \"Price\": 300, \"Manufacturing_Date\": \"02/09/21\", \"Expiry_date\": \"02/01/22\", \"Quantity\": 100}, \"2036\": {\"Product_name\": \"Microsoft\", \"Price\": 1999, \"Starting_date\": \"10/10/21\", \"Expiry_date\": \"25/10/25\", \"Quantity\": 100000}, \"2037\": {\"Product_name\": \"Nestle\", \"Price\": 55, \"Quantity\": 50, \"Expiry_Date\": \"23/05/22\", \"Manufacturing_date\": \"21/2/21\"}, \"2038\": {\"Product_name\": \"Amul\", \"Price\": 300, \"Quantity\": 300, \"Expiry_Date\": \"31/01/22\", \"Manufacturing_Date\": \"22/08/21\"}, \"2039\": {\"Product_name\": \"Britania_cake\", \"Price\": 30, \"Quantity\": 200, \"Expiry_Date\": \"04/01/22\", \"Manufacturing_Date\": \"7/9/21\"}, \"2040\": {\"Product_name\": \"Clothes\", \"Price\": 400, \"Quantity\": 100, \"Expiry_Date\": \"nil\", \"Manufacturing_Date\": \"22/07/21\"}, \"2041\": {\"Product_name\": \"Colgate\", \"Price\": 45, \"Quantity\": 51, \"Expiry_Date\": \"22/04/23\", \"Manufacturing_Date\": \"31/01/21\"}, \"2042\": {\"Product_name\": \"Brush\", \"Price\": 49, \"Quantity\": 500, \"Expiry_Date\": \"22/9/24\", \"Manufacturing_Date\": \"1/9/21\"}, \"2043\": {\"Product_name\": \"School bag\", \"Price\": 500, \"Quantity\": 100, \"Expiry_Date\": \"24/02/24\", \"Manufacturing_Date\": \"2/3/21\"}, \"2044\": {\"Product_name\": \"Smart Watch\", \"Price\": 4500, \"Quantity\": 100, \"Expiry_Date\": \"4/05/24\", \"Manufacturing_Date\": \"2/9/21\"}, \"2045\": {\"Product_name\": \"Water Bottle\", \"Price\": 99, \"Quantity\": 200, \"Expiry_Date\": \"31/12/25\", \"Manufacturing_Date\": \"2/7/21\"}, \"2046\": {\"Product_name\": \"jeans\", \"Price\": 999, \"Quantity\": 50, \"Expiry_Date\": \"22/10/2027\", \"Manufacturing_Date\": \"4/3/21\"}, \"2047\": {\"Product_name\": \"Drones\", \"Price\": 2999, \"Quantity\": 15, \"Expiry_Date\": \"5/9/28\", \"Manufacturing_Date\": \"2/9/21\"}, \"2048\": {\"Product_name\": \"Hair Dryer\", \"Price\": 1200, \"Quantity\": 30, \"Expiry_Date\": \"22/07/27\", \"Manufacturing_Date\": \"1/09/20\"}, \"2049\": {\"Product_name\": \"Earphone\", \"Price\": 599, \"Quantity\": 50, \"Expiry_Date\": \"31/01/25\", \"Manufacturing_Date\": \"5/9/20\"}, \"2050\": {\"Product_name\": \"head Phone\", \"Price\": 1999, \"Quantity\": 40, \"Expiry_Date\": \"25/09/24\", \"Manufacturing_Date\": \"2/9/21\"}}'"
            ]
          },
          "metadata": {},
          "execution_count": 51
        }
      ]
    },
    {
      "cell_type": "code",
      "metadata": {
        "id": "xtthYQUl_IX0"
      },
      "source": [
        "record = json.loads(txt)"
      ],
      "execution_count": 52,
      "outputs": []
    },
    {
      "cell_type": "code",
      "metadata": {
        "colab": {
          "base_uri": "https://localhost:8080/"
        },
        "id": "gFv8p8C0_Nly",
        "outputId": "d785343b-7dd5-4c56-ef9a-3e86b17d4332"
      },
      "source": [
        "record"
      ],
      "execution_count": 53,
      "outputs": [
        {
          "output_type": "execute_result",
          "data": {
            "text/plain": [
              "{'2021': {'Generation': '10th',\n",
              "  'Price': 50000,\n",
              "  'Processor': 'i5',\n",
              "  'Product_name': 'HP',\n",
              "  'Quantity': 100},\n",
              " '2022': {'Generation': '10th',\n",
              "  'Price': 60000,\n",
              "  'Processor': 'i5',\n",
              "  'Product_name': 'DELL',\n",
              "  'Quantity': 50},\n",
              " '2023': {'Generation': '10th',\n",
              "  'Price': 50000,\n",
              "  'Processor': 'i5',\n",
              "  'Product_name': 'Asus',\n",
              "  'Quantity': 40},\n",
              " '2024': {'Expiry_Date': '22/04/26',\n",
              "  'Manufacturing_Date': '22/9/21',\n",
              "  'Price': 100,\n",
              "  'Product_name': 'Geometry Box',\n",
              "  'Quantity': 200},\n",
              " '2025': {'On-site_warranty': '1_yrs',\n",
              "  'Product_name': 'Samsung',\n",
              "  'Quantity': 21,\n",
              "  'Specifications': '8gb_ram,64gb_rom',\n",
              "  'price': 15000},\n",
              " '2026': {'Generation': '10th',\n",
              "  'Price': 150000,\n",
              "  'Processor': 'i9',\n",
              "  'Product_name': 'Apple',\n",
              "  'Quantity': 35},\n",
              " '2027': {'Colors': 'Black',\n",
              "  'Material': 'Leather',\n",
              "  'Price': 1000,\n",
              "  'Product_name': 'American_Tourister',\n",
              "  'Quantity': 51},\n",
              " '2028': {'Onsite_Warranty': '1_yrs',\n",
              "  'Price': 75000,\n",
              "  'Product_name': 'Apple',\n",
              "  'Quantity': 20,\n",
              "  'Specifications': '8gb_ram,64gb_rom'},\n",
              " '2029': {'Generation': '10th',\n",
              "  'Price': 52000,\n",
              "  'Processor': 'i5',\n",
              "  'Product_name': 'Lenovo',\n",
              "  'Quantity': 25},\n",
              " '2030': {'Generation': '10th',\n",
              "  'Price': 36000,\n",
              "  'Processor': 'Rhyzen3',\n",
              "  'Product_name': 'HP',\n",
              "  'Quantity': 15},\n",
              " '2031': {'Generation': '10th',\n",
              "  'Price': 47000,\n",
              "  'Processor': 'Rhyzen5',\n",
              "  'Product_name': 'HP',\n",
              "  'Quantity': 10},\n",
              " '2032': {'Packing': 'Polythene',\n",
              "  'Price': 29,\n",
              "  'Product_name': 'Amul',\n",
              "  'Quantity': 101,\n",
              "  'Specifications': 'Full_Cream'},\n",
              " '2033': {'Expiry_Date': '22/04/22',\n",
              "  'Price': 10,\n",
              "  'Product': 'Chocalate',\n",
              "  'Product_name': '5_Star',\n",
              "  'Quantity': 100},\n",
              " '2034': {'Batch_no': '435671',\n",
              "  'Expiry_Date': '1/1,22',\n",
              "  'Price': 45,\n",
              "  'Product_name': 'Coca_cola',\n",
              "  'Quantity': 100},\n",
              " '2035': {'Expiry_date': '02/01/22',\n",
              "  'Manufacturing_Date': '02/09/21',\n",
              "  'Price': 300,\n",
              "  'Product_name': 'Aggarwal_Sweets',\n",
              "  'Quantity': 100},\n",
              " '2036': {'Expiry_date': '25/10/25',\n",
              "  'Price': 1999,\n",
              "  'Product_name': 'Microsoft',\n",
              "  'Quantity': 100000,\n",
              "  'Starting_date': '10/10/21'},\n",
              " '2037': {'Expiry_Date': '23/05/22',\n",
              "  'Manufacturing_date': '21/2/21',\n",
              "  'Price': 55,\n",
              "  'Product_name': 'Nestle',\n",
              "  'Quantity': 50},\n",
              " '2038': {'Expiry_Date': '31/01/22',\n",
              "  'Manufacturing_Date': '22/08/21',\n",
              "  'Price': 300,\n",
              "  'Product_name': 'Amul',\n",
              "  'Quantity': 300},\n",
              " '2039': {'Expiry_Date': '04/01/22',\n",
              "  'Manufacturing_Date': '7/9/21',\n",
              "  'Price': 30,\n",
              "  'Product_name': 'Britania_cake',\n",
              "  'Quantity': 200},\n",
              " '2040': {'Expiry_Date': 'nil',\n",
              "  'Manufacturing_Date': '22/07/21',\n",
              "  'Price': 400,\n",
              "  'Product_name': 'Clothes',\n",
              "  'Quantity': 100},\n",
              " '2041': {'Expiry_Date': '22/04/23',\n",
              "  'Manufacturing_Date': '31/01/21',\n",
              "  'Price': 45,\n",
              "  'Product_name': 'Colgate',\n",
              "  'Quantity': 51},\n",
              " '2042': {'Expiry_Date': '22/9/24',\n",
              "  'Manufacturing_Date': '1/9/21',\n",
              "  'Price': 49,\n",
              "  'Product_name': 'Brush',\n",
              "  'Quantity': 500},\n",
              " '2043': {'Expiry_Date': '24/02/24',\n",
              "  'Manufacturing_Date': '2/3/21',\n",
              "  'Price': 500,\n",
              "  'Product_name': 'School bag',\n",
              "  'Quantity': 100},\n",
              " '2044': {'Expiry_Date': '4/05/24',\n",
              "  'Manufacturing_Date': '2/9/21',\n",
              "  'Price': 4500,\n",
              "  'Product_name': 'Smart Watch',\n",
              "  'Quantity': 100},\n",
              " '2045': {'Expiry_Date': '31/12/25',\n",
              "  'Manufacturing_Date': '2/7/21',\n",
              "  'Price': 99,\n",
              "  'Product_name': 'Water Bottle',\n",
              "  'Quantity': 200},\n",
              " '2046': {'Expiry_Date': '22/10/2027',\n",
              "  'Manufacturing_Date': '4/3/21',\n",
              "  'Price': 999,\n",
              "  'Product_name': 'jeans',\n",
              "  'Quantity': 50},\n",
              " '2047': {'Expiry_Date': '5/9/28',\n",
              "  'Manufacturing_Date': '2/9/21',\n",
              "  'Price': 2999,\n",
              "  'Product_name': 'Drones',\n",
              "  'Quantity': 15},\n",
              " '2048': {'Expiry_Date': '22/07/27',\n",
              "  'Manufacturing_Date': '1/09/20',\n",
              "  'Price': 1200,\n",
              "  'Product_name': 'Hair Dryer',\n",
              "  'Quantity': 30},\n",
              " '2049': {'Expiry_Date': '31/01/25',\n",
              "  'Manufacturing_Date': '5/9/20',\n",
              "  'Price': 599,\n",
              "  'Product_name': 'Earphone',\n",
              "  'Quantity': 50},\n",
              " '2050': {'Expiry_Date': '25/09/24',\n",
              "  'Manufacturing_Date': '2/9/21',\n",
              "  'Price': 1999,\n",
              "  'Product_name': 'head Phone',\n",
              "  'Quantity': 40}}"
            ]
          },
          "metadata": {},
          "execution_count": 53
        }
      ]
    },
    {
      "cell_type": "code",
      "metadata": {
        "colab": {
          "base_uri": "https://localhost:8080/"
        },
        "id": "Y5doqn4j_PVH",
        "outputId": "cb62e226-1cd7-4ef6-dd1e-0bb0557642c3"
      },
      "source": [
        "record['2036']"
      ],
      "execution_count": 54,
      "outputs": [
        {
          "output_type": "execute_result",
          "data": {
            "text/plain": [
              "{'Expiry_date': '25/10/25',\n",
              " 'Price': 1999,\n",
              " 'Product_name': 'Microsoft',\n",
              " 'Quantity': 100000,\n",
              " 'Starting_date': '10/10/21'}"
            ]
          },
          "metadata": {},
          "execution_count": 54
        }
      ]
    },
    {
      "cell_type": "code",
      "metadata": {
        "id": "SAdOizLZ_bwJ"
      },
      "source": [
        "import time"
      ],
      "execution_count": 55,
      "outputs": []
    },
    {
      "cell_type": "code",
      "metadata": {
        "colab": {
          "base_uri": "https://localhost:8080/",
          "height": 35
        },
        "id": "WC7EgfAL_gtt",
        "outputId": "4a3ffa80-f5e6-40e2-c218-826d0f5b6739"
      },
      "source": [
        "\n",
        "time.ctime()"
      ],
      "execution_count": 56,
      "outputs": [
        {
          "output_type": "execute_result",
          "data": {
            "application/vnd.google.colaboratory.intrinsic+json": {
              "type": "string"
            },
            "text/plain": [
              "'Sun Sep  5 09:31:04 2021'"
            ]
          },
          "metadata": {},
          "execution_count": 56
        }
      ]
    },
    {
      "cell_type": "code",
      "metadata": {
        "colab": {
          "base_uri": "https://localhost:8080/"
        },
        "id": "bVg1hc-9_kX3",
        "outputId": "66572c40-a78f-4771-b3ef-f9cd26a3b2f5"
      },
      "source": [
        "record.values()"
      ],
      "execution_count": 57,
      "outputs": [
        {
          "output_type": "execute_result",
          "data": {
            "text/plain": [
              "dict_values([{'Product_name': 'HP', 'Price': 50000, 'Generation': '10th', 'Processor': 'i5', 'Quantity': 100}, {'Product_name': 'DELL', 'Price': 60000, 'Generation': '10th', 'Processor': 'i5', 'Quantity': 50}, {'Product_name': 'Asus', 'Price': 50000, 'Generation': '10th', 'Processor': 'i5', 'Quantity': 40}, {'Product_name': 'Geometry Box', 'Price': 100, 'Quantity': 200, 'Expiry_Date': '22/04/26', 'Manufacturing_Date': '22/9/21'}, {'Product_name': 'Samsung', 'price': 15000, 'Specifications': '8gb_ram,64gb_rom', 'On-site_warranty': '1_yrs', 'Quantity': 21}, {'Product_name': 'Apple', 'Price': 150000, 'Generation': '10th', 'Processor': 'i9', 'Quantity': 35}, {'Product_name': 'American_Tourister', 'Price': 1000, 'Colors': 'Black', 'Material': 'Leather', 'Quantity': 51}, {'Product_name': 'Apple', 'Price': 75000, 'Specifications': '8gb_ram,64gb_rom', 'Onsite_Warranty': '1_yrs', 'Quantity': 20}, {'Product_name': 'Lenovo', 'Price': 52000, 'Generation': '10th', 'Processor': 'i5', 'Quantity': 25}, {'Product_name': 'HP', 'Price': 36000, 'Generation': '10th', 'Processor': 'Rhyzen3', 'Quantity': 15}, {'Product_name': 'HP', 'Price': 47000, 'Generation': '10th', 'Processor': 'Rhyzen5', 'Quantity': 10}, {'Product_name': 'Amul', 'Price': 29, 'Specifications': 'Full_Cream', 'Quantity': 101, 'Packing': 'Polythene'}, {'Product_name': '5_Star', 'Price': 10, 'Product': 'Chocalate', 'Quantity': 100, 'Expiry_Date': '22/04/22'}, {'Product_name': 'Coca_cola', 'Price': 45, 'Quantity': 100, 'Expiry_Date': '1/1,22', 'Batch_no': '435671'}, {'Product_name': 'Aggarwal_Sweets', 'Price': 300, 'Manufacturing_Date': '02/09/21', 'Expiry_date': '02/01/22', 'Quantity': 100}, {'Product_name': 'Microsoft', 'Price': 1999, 'Starting_date': '10/10/21', 'Expiry_date': '25/10/25', 'Quantity': 100000}, {'Product_name': 'Nestle', 'Price': 55, 'Quantity': 50, 'Expiry_Date': '23/05/22', 'Manufacturing_date': '21/2/21'}, {'Product_name': 'Amul', 'Price': 300, 'Quantity': 300, 'Expiry_Date': '31/01/22', 'Manufacturing_Date': '22/08/21'}, {'Product_name': 'Britania_cake', 'Price': 30, 'Quantity': 200, 'Expiry_Date': '04/01/22', 'Manufacturing_Date': '7/9/21'}, {'Product_name': 'Clothes', 'Price': 400, 'Quantity': 100, 'Expiry_Date': 'nil', 'Manufacturing_Date': '22/07/21'}, {'Product_name': 'Colgate', 'Price': 45, 'Quantity': 51, 'Expiry_Date': '22/04/23', 'Manufacturing_Date': '31/01/21'}, {'Product_name': 'Brush', 'Price': 49, 'Quantity': 500, 'Expiry_Date': '22/9/24', 'Manufacturing_Date': '1/9/21'}, {'Product_name': 'School bag', 'Price': 500, 'Quantity': 100, 'Expiry_Date': '24/02/24', 'Manufacturing_Date': '2/3/21'}, {'Product_name': 'Smart Watch', 'Price': 4500, 'Quantity': 100, 'Expiry_Date': '4/05/24', 'Manufacturing_Date': '2/9/21'}, {'Product_name': 'Water Bottle', 'Price': 99, 'Quantity': 200, 'Expiry_Date': '31/12/25', 'Manufacturing_Date': '2/7/21'}, {'Product_name': 'jeans', 'Price': 999, 'Quantity': 50, 'Expiry_Date': '22/10/2027', 'Manufacturing_Date': '4/3/21'}, {'Product_name': 'Drones', 'Price': 2999, 'Quantity': 15, 'Expiry_Date': '5/9/28', 'Manufacturing_Date': '2/9/21'}, {'Product_name': 'Hair Dryer', 'Price': 1200, 'Quantity': 30, 'Expiry_Date': '22/07/27', 'Manufacturing_Date': '1/09/20'}, {'Product_name': 'Earphone', 'Price': 599, 'Quantity': 50, 'Expiry_Date': '31/01/25', 'Manufacturing_Date': '5/9/20'}, {'Product_name': 'head Phone', 'Price': 1999, 'Quantity': 40, 'Expiry_Date': '25/09/24', 'Manufacturing_Date': '2/9/21'}])"
            ]
          },
          "metadata": {},
          "execution_count": 57
        }
      ]
    },
    {
      "cell_type": "code",
      "metadata": {
        "colab": {
          "base_uri": "https://localhost:8080/"
        },
        "id": "gO_7t3Nl_n_8",
        "outputId": "cb7eb84a-0619-4127-9f09-9420ba0971a4"
      },
      "source": [
        "prod_id = str(input(\"Enter product id:\"))\n",
        "Product_name = str(input(\"Enter name:\"))\n",
        "Price = int(input(\"Enter price:\"))\n",
        "Expiry_Date = str(input(\"Enter Expiry Date\"))\n",
        "Manufacturing_Date = str(input(\"Enter Manufacturing date\"))\n",
        "Quantity = int(input(\"Enter quantity:\"))\n",
        "\n",
        "\n",
        "record[prod_id] = {'Product_name': Product_name, 'Price': Price, 'Quantity': Quantity,\"Expiry_Date\":Expiry_Date,\"Manufacturing_Date\":Manufacturing_Date}\n",
        "\n",
        "js = json.dumps(record)\n",
        "\n",
        "fd = open(\"record.json\",'w')\n",
        "fd.write(js)\n",
        "fd.close()"
      ],
      "execution_count": 58,
      "outputs": [
        {
          "name": "stdout",
          "output_type": "stream",
          "text": [
            "Enter product id:2023\n",
            "Enter name:Cap\n",
            "Enter price:199\n",
            "Enter Expiry Date20/2/25\n",
            "Enter Manufacturing date1/1/21\n",
            "Enter quantity:100\n"
          ]
        }
      ]
    },
    {
      "cell_type": "code",
      "metadata": {
        "colab": {
          "base_uri": "https://localhost:8080/"
        },
        "id": "bbxzb7xbB0A9",
        "outputId": "44a79f76-8418-4b5b-8a31-300a6e2f4962"
      },
      "source": [
        "record"
      ],
      "execution_count": 59,
      "outputs": [
        {
          "output_type": "execute_result",
          "data": {
            "text/plain": [
              "{'2021': {'Generation': '10th',\n",
              "  'Price': 50000,\n",
              "  'Processor': 'i5',\n",
              "  'Product_name': 'HP',\n",
              "  'Quantity': 100},\n",
              " '2022': {'Generation': '10th',\n",
              "  'Price': 60000,\n",
              "  'Processor': 'i5',\n",
              "  'Product_name': 'DELL',\n",
              "  'Quantity': 50},\n",
              " '2023': {'Expiry_Date': '20/2/25',\n",
              "  'Manufacturing_Date': '1/1/21',\n",
              "  'Price': 199,\n",
              "  'Product_name': 'Cap',\n",
              "  'Quantity': 100},\n",
              " '2024': {'Expiry_Date': '22/04/26',\n",
              "  'Manufacturing_Date': '22/9/21',\n",
              "  'Price': 100,\n",
              "  'Product_name': 'Geometry Box',\n",
              "  'Quantity': 200},\n",
              " '2025': {'On-site_warranty': '1_yrs',\n",
              "  'Product_name': 'Samsung',\n",
              "  'Quantity': 21,\n",
              "  'Specifications': '8gb_ram,64gb_rom',\n",
              "  'price': 15000},\n",
              " '2026': {'Generation': '10th',\n",
              "  'Price': 150000,\n",
              "  'Processor': 'i9',\n",
              "  'Product_name': 'Apple',\n",
              "  'Quantity': 35},\n",
              " '2027': {'Colors': 'Black',\n",
              "  'Material': 'Leather',\n",
              "  'Price': 1000,\n",
              "  'Product_name': 'American_Tourister',\n",
              "  'Quantity': 51},\n",
              " '2028': {'Onsite_Warranty': '1_yrs',\n",
              "  'Price': 75000,\n",
              "  'Product_name': 'Apple',\n",
              "  'Quantity': 20,\n",
              "  'Specifications': '8gb_ram,64gb_rom'},\n",
              " '2029': {'Generation': '10th',\n",
              "  'Price': 52000,\n",
              "  'Processor': 'i5',\n",
              "  'Product_name': 'Lenovo',\n",
              "  'Quantity': 25},\n",
              " '2030': {'Generation': '10th',\n",
              "  'Price': 36000,\n",
              "  'Processor': 'Rhyzen3',\n",
              "  'Product_name': 'HP',\n",
              "  'Quantity': 15},\n",
              " '2031': {'Generation': '10th',\n",
              "  'Price': 47000,\n",
              "  'Processor': 'Rhyzen5',\n",
              "  'Product_name': 'HP',\n",
              "  'Quantity': 10},\n",
              " '2032': {'Packing': 'Polythene',\n",
              "  'Price': 29,\n",
              "  'Product_name': 'Amul',\n",
              "  'Quantity': 101,\n",
              "  'Specifications': 'Full_Cream'},\n",
              " '2033': {'Expiry_Date': '22/04/22',\n",
              "  'Price': 10,\n",
              "  'Product': 'Chocalate',\n",
              "  'Product_name': '5_Star',\n",
              "  'Quantity': 100},\n",
              " '2034': {'Batch_no': '435671',\n",
              "  'Expiry_Date': '1/1,22',\n",
              "  'Price': 45,\n",
              "  'Product_name': 'Coca_cola',\n",
              "  'Quantity': 100},\n",
              " '2035': {'Expiry_date': '02/01/22',\n",
              "  'Manufacturing_Date': '02/09/21',\n",
              "  'Price': 300,\n",
              "  'Product_name': 'Aggarwal_Sweets',\n",
              "  'Quantity': 100},\n",
              " '2036': {'Expiry_date': '25/10/25',\n",
              "  'Price': 1999,\n",
              "  'Product_name': 'Microsoft',\n",
              "  'Quantity': 100000,\n",
              "  'Starting_date': '10/10/21'},\n",
              " '2037': {'Expiry_Date': '23/05/22',\n",
              "  'Manufacturing_date': '21/2/21',\n",
              "  'Price': 55,\n",
              "  'Product_name': 'Nestle',\n",
              "  'Quantity': 50},\n",
              " '2038': {'Expiry_Date': '31/01/22',\n",
              "  'Manufacturing_Date': '22/08/21',\n",
              "  'Price': 300,\n",
              "  'Product_name': 'Amul',\n",
              "  'Quantity': 300},\n",
              " '2039': {'Expiry_Date': '04/01/22',\n",
              "  'Manufacturing_Date': '7/9/21',\n",
              "  'Price': 30,\n",
              "  'Product_name': 'Britania_cake',\n",
              "  'Quantity': 200},\n",
              " '2040': {'Expiry_Date': 'nil',\n",
              "  'Manufacturing_Date': '22/07/21',\n",
              "  'Price': 400,\n",
              "  'Product_name': 'Clothes',\n",
              "  'Quantity': 100},\n",
              " '2041': {'Expiry_Date': '22/04/23',\n",
              "  'Manufacturing_Date': '31/01/21',\n",
              "  'Price': 45,\n",
              "  'Product_name': 'Colgate',\n",
              "  'Quantity': 51},\n",
              " '2042': {'Expiry_Date': '22/9/24',\n",
              "  'Manufacturing_Date': '1/9/21',\n",
              "  'Price': 49,\n",
              "  'Product_name': 'Brush',\n",
              "  'Quantity': 500},\n",
              " '2043': {'Expiry_Date': '24/02/24',\n",
              "  'Manufacturing_Date': '2/3/21',\n",
              "  'Price': 500,\n",
              "  'Product_name': 'School bag',\n",
              "  'Quantity': 100},\n",
              " '2044': {'Expiry_Date': '4/05/24',\n",
              "  'Manufacturing_Date': '2/9/21',\n",
              "  'Price': 4500,\n",
              "  'Product_name': 'Smart Watch',\n",
              "  'Quantity': 100},\n",
              " '2045': {'Expiry_Date': '31/12/25',\n",
              "  'Manufacturing_Date': '2/7/21',\n",
              "  'Price': 99,\n",
              "  'Product_name': 'Water Bottle',\n",
              "  'Quantity': 200},\n",
              " '2046': {'Expiry_Date': '22/10/2027',\n",
              "  'Manufacturing_Date': '4/3/21',\n",
              "  'Price': 999,\n",
              "  'Product_name': 'jeans',\n",
              "  'Quantity': 50},\n",
              " '2047': {'Expiry_Date': '5/9/28',\n",
              "  'Manufacturing_Date': '2/9/21',\n",
              "  'Price': 2999,\n",
              "  'Product_name': 'Drones',\n",
              "  'Quantity': 15},\n",
              " '2048': {'Expiry_Date': '22/07/27',\n",
              "  'Manufacturing_Date': '1/09/20',\n",
              "  'Price': 1200,\n",
              "  'Product_name': 'Hair Dryer',\n",
              "  'Quantity': 30},\n",
              " '2049': {'Expiry_Date': '31/01/25',\n",
              "  'Manufacturing_Date': '5/9/20',\n",
              "  'Price': 599,\n",
              "  'Product_name': 'Earphone',\n",
              "  'Quantity': 50},\n",
              " '2050': {'Expiry_Date': '25/09/24',\n",
              "  'Manufacturing_Date': '2/9/21',\n",
              "  'Price': 1999,\n",
              "  'Product_name': 'head Phone',\n",
              "  'Quantity': 40}}"
            ]
          },
          "metadata": {},
          "execution_count": 59
        }
      ]
    },
    {
      "cell_type": "code",
      "metadata": {
        "id": "YBqwRE3iB3_A"
      },
      "source": [
        ""
      ],
      "execution_count": null,
      "outputs": []
    }
  ]
}